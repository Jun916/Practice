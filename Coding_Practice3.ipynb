{
 "cells": [
  {
   "cell_type": "markdown",
   "metadata": {},
   "source": [
    "### Every_other_digit\n",
    "* Replace all nth number, where n is an even number with *"
   ]
  },
  {
   "cell_type": "code",
   "execution_count": null,
   "metadata": {},
   "outputs": [
    {
     "name": "stdout",
     "output_type": "stream",
     "text": [
      "Enter the string : a1b2cde3~g45hi6\n"
     ]
    }
   ],
   "source": [
    "exp = input('Enter the string : ')"
   ]
  },
  {
   "cell_type": "code",
   "execution_count": 2,
   "metadata": {},
   "outputs": [],
   "source": [
    "result = ''"
   ]
  },
  {
   "cell_type": "code",
   "execution_count": 5,
   "metadata": {},
   "outputs": [],
   "source": [
    "for idx, name in enumerate(exp):\n",
    "    if idx % 2 == 0:\n",
    "        result += name\n",
    "    else:\n",
    "        if name.isdigit():\n",
    "            result += '*'\n",
    "        else:\n",
    "            result += name"
   ]
  },
  {
   "cell_type": "code",
   "execution_count": 6,
   "metadata": {},
   "outputs": [
    {
     "name": "stdout",
     "output_type": "stream",
     "text": [
      "a*b*cde*~g4*hi6\n"
     ]
    }
   ],
   "source": [
    "print(result)"
   ]
  },
  {
   "cell_type": "code",
   "execution_count": null,
   "metadata": {},
   "outputs": [],
   "source": []
  },
  {
   "cell_type": "markdown",
   "metadata": {},
   "source": [
    "### Rotate_list **\n",
    "1. 입력값은 한 행의 문자열, 각 값은 공백으로 구분\n",
    "2. 첫 번째 값은 리스트를 회전하는 양과 방향\n",
    "3. 첫 번째 값을 제외한 나머지 값은 리스트의 각 항복의 값\n",
    "4. 회전된 리스트를 문자열로 출력\n",
    "5. 구현에 이용할 자료구조에 대한 조건이나 제약은 없다\n",
    "6. 입력되는 리스트의 항목의 개수는 유한하다"
   ]
  },
  {
   "cell_type": "code",
   "execution_count": 29,
   "metadata": {},
   "outputs": [
    {
     "name": "stdout",
     "output_type": "stream",
     "text": [
      "Enter the roate number and string : 1 10 20 30 40 50\n"
     ]
    }
   ],
   "source": [
    "data = input('Enter the roate number and string : ')"
   ]
  },
  {
   "cell_type": "code",
   "execution_count": 30,
   "metadata": {},
   "outputs": [],
   "source": [
    "data = data.split()"
   ]
  },
  {
   "cell_type": "code",
   "execution_count": 31,
   "metadata": {},
   "outputs": [
    {
     "name": "stdout",
     "output_type": "stream",
     "text": [
      "1\n",
      "['10', '20', '30', '40', '50']\n"
     ]
    }
   ],
   "source": [
    "rotate_n = int(data.pop(0))\n",
    "print(rotate_n)\n",
    "print(data)"
   ]
  },
  {
   "cell_type": "code",
   "execution_count": 32,
   "metadata": {},
   "outputs": [
    {
     "name": "stdout",
     "output_type": "stream",
     "text": [
      "[None, None, None, None, None]\n"
     ]
    }
   ],
   "source": [
    "result_r = [None] * len(data)  \n",
    "print(result_r)"
   ]
  },
  {
   "cell_type": "code",
   "execution_count": 34,
   "metadata": {},
   "outputs": [
    {
     "name": "stdout",
     "output_type": "stream",
     "text": [
      "50 10 20 30 40\n"
     ]
    }
   ],
   "source": [
    "for i in range(len(data)):\n",
    "    result_r[(i+rotate_n) % len(data)] = data[i]\n",
    "    \n",
    "print(' '.join(result_r))"
   ]
  },
  {
   "cell_type": "code",
   "execution_count": null,
   "metadata": {},
   "outputs": [],
   "source": []
  },
  {
   "cell_type": "markdown",
   "metadata": {},
   "source": [
    "### Insertion_Sort\n",
    "1. 두번째 인덱스부터 시작, 시작한 인덱스 좌측의 항목 중 자신이 들어가야 할 위치를 판단하여 이동\n",
    "2. 좌측 배열 요소들은 본인보다 좌측에 값이 삽입되어 들어올 겨웅 한칸씩 우측 이동, 단 삽입되어 들어오는 요소가 있던 인덱스까지만 이동."
   ]
  },
  {
   "cell_type": "code",
   "execution_count": 52,
   "metadata": {},
   "outputs": [],
   "source": [
    "num = [5, 2, 4, 6, 1, 3]"
   ]
  },
  {
   "cell_type": "code",
   "execution_count": 53,
   "metadata": {},
   "outputs": [
    {
     "name": "stdout",
     "output_type": "stream",
     "text": [
      "start list is [5, 2, 4, 6, 1, 3]\n",
      "[2, 5, 4, 6, 1, 3]\n",
      "[2, 4, 5, 6, 1, 3]\n",
      "[2, 4, 5, 6, 1, 3]\n",
      "[1, 2, 4, 5, 6, 3]\n",
      "[1, 2, 3, 4, 5, 6]\n",
      "result list is [1, 2, 3, 4, 5, 6]\n"
     ]
    }
   ],
   "source": [
    "print('start list is {}'.format(num))\n",
    "\n",
    "for i in range(1, len(num)):\n",
    "    for j in range(i):\n",
    "        if num[i] < num[j]:\n",
    "            num.insert(j, num[i]) # 자신이 어디로 갈지 정해서 삽입 후\n",
    "            num.pop(i+1) # 삽입된 리스트에서 자기자리는(i+1)이 되고 이를 끄집어냄\n",
    "    if num[i] > num[(i-1)]:\n",
    "        num.insert(i, num[i])\n",
    "        num.pop(i+1)\n",
    "            \n",
    "        print(num)\n",
    "        \n",
    "print('result list is {}'.format(num))"
   ]
  },
  {
   "cell_type": "code",
   "execution_count": null,
   "metadata": {},
   "outputs": [],
   "source": []
  },
  {
   "cell_type": "markdown",
   "metadata": {},
   "source": [
    "### Even_fibonacci numbers\n",
    "* What is the sum of all the terms in the Fibonacci sequence that are even and less than 4 million??"
   ]
  },
  {
   "cell_type": "code",
   "execution_count": 1,
   "metadata": {},
   "outputs": [
    {
     "name": "stdout",
     "output_type": "stream",
     "text": [
      "[1, 2, 3, 5, 8, 13, 21, 34, 55, 89, 144, 233]\n"
     ]
    }
   ],
   "source": [
    "F_init = [1, 2]\n",
    "\n",
    "for i in range(10):\n",
    "    F_init.append(F_init[i] + F_init[i+1])\n",
    "    \n",
    "print(F_init)"
   ]
  },
  {
   "cell_type": "markdown",
   "metadata": {},
   "source": [
    "위는 fibonacci 수열\n",
    "아래 F에 숫자를 주고 F[0]과 같이 인덱싱을 사용해 while문을 돌리면 꼬이는 듯\n",
    "그래서 one, two주고 돌리면 성공."
   ]
  },
  {
   "cell_type": "code",
   "execution_count": 3,
   "metadata": {},
   "outputs": [
    {
     "name": "stdout",
     "output_type": "stream",
     "text": [
      "[1, 2, 3, 5, 8, 13, 21, 34, 55, 89, 144, 233, 377, 610, 987, 1597, 2584, 4181, 6765, 10946, 17711, 28657, 46368, 75025, 121393, 196418, 317811, 514229, 832040, 1346269, 2178309, 3524578]\n"
     ]
    }
   ],
   "source": [
    "# 4000000이하의 수열 생성\n",
    "one = 1\n",
    "two = 2\n",
    "F = [one, two]\n",
    "\n",
    "while one + two < 4000000:\n",
    "    F.append(one + two)\n",
    "    one, two = two, one + two\n",
    "    \n",
    "print(F)"
   ]
  },
  {
   "cell_type": "code",
   "execution_count": 4,
   "metadata": {},
   "outputs": [
    {
     "name": "stdout",
     "output_type": "stream",
     "text": [
      "4613732\n"
     ]
    }
   ],
   "source": [
    "sum = 0\n",
    "for i in F:\n",
    "    if i % 2 == 0:\n",
    "        sum += i\n",
    "\n",
    "print(sum)"
   ]
  },
  {
   "cell_type": "code",
   "execution_count": null,
   "metadata": {},
   "outputs": [],
   "source": []
  },
  {
   "cell_type": "markdown",
   "metadata": {},
   "source": [
    "### Primary Arithmetic\n",
    "- 입력 : 두개의 숫자, 마지막은 0 0 을 포함\n",
    "- 출력 : 두 숫자를 더했을 때 우측부터 올림되는 숫자가 있다면 카운트 1\n",
    "총 카운트가 몇개 인가??"
   ]
  },
  {
   "cell_type": "code",
   "execution_count": 13,
   "metadata": {},
   "outputs": [
    {
     "name": "stdout",
     "output_type": "stream",
     "text": [
      "Enter the number : 0 0\n"
     ]
    }
   ],
   "source": [
    "# 123 456 \n",
    "# 555 555 \n",
    "# 123 594 \n",
    "# 0 0\n",
    "\n",
    "two_num = input('Enter the number : ')\n",
    "two_num = two_num.split()\n",
    "fir, sec = two_num"
   ]
  },
  {
   "cell_type": "code",
   "execution_count": 23,
   "metadata": {},
   "outputs": [
    {
     "name": "stdout",
     "output_type": "stream",
     "text": [
      "Nothing\n"
     ]
    }
   ],
   "source": [
    "carry = 0\n",
    "for i in range(1, len(fir)+1):\n",
    "    if [fir, sec] == ['0', '0']:\n",
    "        print(\"Nothing\")\n",
    "        break\n",
    "    elif int(fir[-i]) + int(sec[-i]) > 9:\n",
    "        carry += 1\n",
    "        \n",
    "    if carry > 0:\n",
    "        print(\"{0} carry opearation.\".format(carry))\n",
    "    else:\n",
    "        print(\"No carry opearation\")"
   ]
  },
  {
   "cell_type": "code",
   "execution_count": null,
   "metadata": {},
   "outputs": [],
   "source": []
  },
  {
   "cell_type": "markdown",
   "metadata": {},
   "source": [
    "### Compare_Version ***\n",
    "* Write the program that compare two version."
   ]
  },
  {
   "cell_type": "markdown",
   "metadata": {},
   "source": [
    "-----------------------------------------------\n",
    "    ??? 1. 왜 map함수는 list를 해줘야 각 인자를 확인 할 수 있는가?\n",
    "    ??? 2. zip도 마찬가지\n",
    "    ??? 3. list(map or zip)은 두번 실행하면 왜 list안 인자가 없어지는가??"
   ]
  },
  {
   "cell_type": "code",
   "execution_count": 24,
   "metadata": {},
   "outputs": [],
   "source": [
    "# iter 내부 함수 zip 함수는 iterables들의 길이가 같을 때 사용\n",
    "# zip_longest함수는 길이가 다를 때 from itertools import zip_longest"
   ]
  },
  {
   "cell_type": "code",
   "execution_count": 25,
   "metadata": {},
   "outputs": [
    {
     "name": "stdout",
     "output_type": "stream",
     "text": [
      "1.0.10 > 1.0.3\n"
     ]
    }
   ],
   "source": [
    "# 내가 짠거\n",
    "fir_ver = '1.0.10'\n",
    "sec_ver = '1.0.3'\n",
    "\n",
    "fir = map(int, fir_ver.split('.'))\n",
    "sec = map(int, sec_ver.split('.'))\n",
    "\n",
    "for i, j in zip(fir, sec):\n",
    "    if i > j:\n",
    "        print('{} > {}'.format(fir_ver, sec_ver))\n",
    "        break\n",
    "    elif i < j:\n",
    "        print('{} < {}'.format(fir_ver, sec_ver))\n",
    "        break"
   ]
  },
  {
   "cell_type": "markdown",
   "metadata": {},
   "source": [
    "---"
   ]
  },
  {
   "cell_type": "code",
   "execution_count": 26,
   "metadata": {
    "scrolled": true
   },
   "outputs": [
    {
     "name": "stdout",
     "output_type": "stream",
     "text": [
      "0.0.2 > 0.0.1\n",
      "1.0.10 > 1.0.3\n",
      "1.2.0 > 1.1.99\n",
      "1.1 > 1.0.1\n"
     ]
    }
   ],
   "source": [
    "from itertools import zip_longest\n",
    "\n",
    "def C_version(ver1, ver2):\n",
    "    fir = map(int, ver1.split('.'))\n",
    "    sec = map(int, ver2.split('.'))\n",
    "\n",
    "    for first_n, second_n in zip_longest(fir, sec, fillvalue=0):\n",
    "        if first_n > second_n:\n",
    "            return '>'\n",
    "        elif first_n < second_n:\n",
    "            return '<'\n",
    "\n",
    "    return '='\n",
    "\n",
    "\n",
    "Vers = [['0.0.2', '0.0.1'],\n",
    "        ['1.0.10', '1.0.3'],\n",
    "        ['1.2.0', '1.1.99'],\n",
    "        ['1.1', '1.0.1']]\n",
    "\n",
    "\n",
    "if __name__ == '__main__':\n",
    "    for vers in Vers:\n",
    "        print('{0[0]} {1} {0[1]}'.format(vers, C_version(*vers)))\n"
   ]
  },
  {
   "cell_type": "code",
   "execution_count": null,
   "metadata": {},
   "outputs": [],
   "source": []
  },
  {
   "cell_type": "markdown",
   "metadata": {},
   "source": [
    "### Each_chipher_Sum\n",
    "- Add the each number of digits of the entered positive integer."
   ]
  },
  {
   "cell_type": "code",
   "execution_count": 28,
   "metadata": {},
   "outputs": [
    {
     "name": "stdout",
     "output_type": "stream",
     "text": [
      "19\n"
     ]
    }
   ],
   "source": [
    "num = 5923\n",
    "num = str(num)\n",
    "\n",
    "sum = 0\n",
    "for i in num:\n",
    "    sum += int(i)\n",
    "\n",
    "print(sum)"
   ]
  },
  {
   "cell_type": "code",
   "execution_count": null,
   "metadata": {},
   "outputs": [],
   "source": []
  }
 ],
 "metadata": {
  "kernelspec": {
   "display_name": "Python 3",
   "language": "python",
   "name": "python3"
  },
  "language_info": {
   "codemirror_mode": {
    "name": "ipython",
    "version": 3
   },
   "file_extension": ".py",
   "mimetype": "text/x-python",
   "name": "python",
   "nbconvert_exporter": "python",
   "pygments_lexer": "ipython3",
   "version": "3.5.5"
  }
 },
 "nbformat": 4,
 "nbformat_minor": 2
}
