{
 "cells": [
  {
   "cell_type": "markdown",
   "metadata": {},
   "source": [
    "### Dashlnsert\n",
    "* Dashinsert function takes a string consisting of digits, adds a - between two digits if the odd digits are consecutive in the string, and adds * if the odd digits are consecutive.\n",
    "\n",
    "-------------------------------\n",
    "* 먼저 append로 숫자를 집어넣고 그 후에 if문 append 작동"
   ]
  },
  {
   "cell_type": "code",
   "execution_count": 2,
   "metadata": {},
   "outputs": [
    {
     "name": "stdout",
     "output_type": "stream",
     "text": [
      "Enter the number : 4546793\n"
     ]
    }
   ],
   "source": [
    "num = input(\"Enter the number : \")"
   ]
  },
  {
   "cell_type": "code",
   "execution_count": 31,
   "metadata": {},
   "outputs": [
    {
     "name": "stdout",
     "output_type": "stream",
     "text": [
      "['4', '5', '4', '*', '6', '7', '-', '9', '-', '3']\n"
     ]
    }
   ],
   "source": [
    "result = []\n",
    "\n",
    "for i in range(len(num)-1):\n",
    "    result.append(num[i])\n",
    "    \n",
    "    odd = int(num[i]) % 2 == 1\n",
    "    next_odd = int(num[i+1]) % 2 == 1\n",
    "    \n",
    "    if odd and next_odd:\n",
    "        result.append('-')\n",
    "    elif not odd and not next_odd:\n",
    "        result.append('*')\n",
    "        \n",
    "        \n",
    "result.append(num[-1])\n",
    "print(result)"
   ]
  },
  {
   "cell_type": "code",
   "execution_count": 32,
   "metadata": {},
   "outputs": [
    {
     "name": "stdout",
     "output_type": "stream",
     "text": [
      "454*67-9-3\n"
     ]
    }
   ],
   "source": [
    "print(''.join(result))"
   ]
  },
  {
   "cell_type": "code",
   "execution_count": null,
   "metadata": {},
   "outputs": [],
   "source": []
  },
  {
   "cell_type": "markdown",
   "metadata": {},
   "source": [
    "### Zip_string, Duplicate numbers PASS"
   ]
  },
  {
   "cell_type": "code",
   "execution_count": null,
   "metadata": {},
   "outputs": [],
   "source": []
  },
  {
   "cell_type": "markdown",
   "metadata": {},
   "source": [
    "### MOS code decryption\n",
    "* Ths sign is separated by a space between the letter and the letter and there are two space between words."
   ]
  },
  {
   "cell_type": "code",
   "execution_count": 34,
   "metadata": {},
   "outputs": [],
   "source": [
    "dic = {\n",
    "    '.-' : 'A', '-...' : 'B', '-.-' : 'C', '-..' : 'D', '.' : 'E', '..-.' : 'F',\n",
    "    '--.' : 'G', '....' : 'H', '..' : 'I', '.---' : 'J', '-.-' : 'K', '.-..' : 'L',\n",
    "    '--' : 'M', '-.' : 'N', '---' : 'O', '.--.' : 'P', '--.-' : 'Q', '.-.' : 'R',\n",
    "    '...' : 'S', '-' : 'T', '..-' : 'U', '...-' : 'V', '.--' : 'W', '-..-' : 'X',\n",
    "    '-.--' : 'Y', '--..' : 'Z'\n",
    "}"
   ]
  },
  {
   "cell_type": "code",
   "execution_count": 44,
   "metadata": {},
   "outputs": [
    {
     "name": "stdout",
     "output_type": "stream",
     "text": [
      "['H', 'E', ' ', 'S', 'L', 'E', 'E', 'P', 'S', ' ', 'E', 'A', 'R', 'L', 'Y', ' ']\n",
      "HE SLEEPS EARLY \n"
     ]
    }
   ],
   "source": [
    "src = '.... .  ... .-.. . . .--. ...  . .- .-. .-.. -.--'\n",
    "\n",
    "mos_result = []\n",
    "\n",
    "for word in src.split(\"  \"):\n",
    "    for chr in word.split(\" \"):\n",
    "        mos_result.append(dic[chr])\n",
    "    mos_result.append(\" \")\n",
    "\n",
    "print(mos_result)\n",
    "\n",
    "print(''.join(mos_result))"
   ]
  },
  {
   "cell_type": "code",
   "execution_count": null,
   "metadata": {},
   "outputs": [],
   "source": []
  }
 ],
 "metadata": {
  "kernelspec": {
   "display_name": "Python 3",
   "language": "python",
   "name": "python3"
  },
  "language_info": {
   "codemirror_mode": {
    "name": "ipython",
    "version": 3
   },
   "file_extension": ".py",
   "mimetype": "text/x-python",
   "name": "python",
   "nbconvert_exporter": "python",
   "pygments_lexer": "ipython3",
   "version": "3.5.5"
  }
 },
 "nbformat": 4,
 "nbformat_minor": 2
}
