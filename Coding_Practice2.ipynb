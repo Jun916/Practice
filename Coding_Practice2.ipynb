{
 "cells": [
  {
   "cell_type": "markdown",
   "metadata": {
    "collapsed": true
   },
   "source": [
    "### Name Print(사이냅소프트)\n",
    "1. How many are Kim and Lee?\n",
    "2. How many times does the name \"Lee Jae young\" repeat?\n",
    "3. Print the name without duplicates.\n",
    "4. Sort out the names in ascending order by removing duplicates."
   ]
  },
  {
   "cell_type": "markdown",
   "metadata": {},
   "source": [
    "1. 이름에 각 첫번째 인덱스를 가져와서 카운트\n",
    "2. 각 이름 가져와서 이재영 카운트\n",
    "3. 중복제거\n",
    "4. 중복제거 후 오름차순"
   ]
  },
  {
   "cell_type": "code",
   "execution_count": null,
   "metadata": {},
   "outputs": [],
   "source": [
    "name_list = ['이유덕', '이재영', '권중표', '이재영', '박민호', '강상희', '이재영',\n",
    "             '김지완', '최승혁', '이성연', '박영서', '박민호', '전경헌', '송정환',\n",
    "             '김재성', '이유덕', '전경헌']"
   ]
  },
  {
   "cell_type": "code",
   "execution_count": null,
   "metadata": {},
   "outputs": [
    {
     "data": {
      "text/plain": [
       "'이'"
      ]
     },
     "execution_count": 4,
     "metadata": {},
     "output_type": "execute_result"
    }
   ],
   "source": [
    "#1\n",
    "name_list[0][0]"
   ]
  },
  {
   "cell_type": "code",
   "execution_count": null,
   "metadata": {},
   "outputs": [
    {
     "name": "stdout",
     "output_type": "stream",
     "text": [
      "2\n",
      "6\n"
     ]
    }
   ],
   "source": [
    "list = []\n",
    "\n",
    "for i in range(len(name_list)):\n",
    "    initial = name_list[i][0]\n",
    "    list.append(initial)\n",
    "    \n",
    "print(list.count('김'))\n",
    "print(list.count('이'))"
   ]
  },
  {
   "cell_type": "code",
   "execution_count": 12,
   "metadata": {},
   "outputs": [
    {
     "name": "stdout",
     "output_type": "stream",
     "text": [
      "3\n",
      "{'이성연', '송정환', '이재영', '최승혁', '박민호', '전경헌', '김지완', '강상희', '김재성', '박영서', '권중표', '이유덕'}\n",
      "['강상희', '권중표', '김재성', '김지완', '박민호', '박영서', '송정환', '이성연', '이유덕', '이재영', '전경헌', '최승혁']\n"
     ]
    }
   ],
   "source": [
    "#2\n",
    "print(name_list.count('이재영'))\n",
    "\n",
    "#3\n",
    "print(set(name_list))\n",
    "\n",
    "#4\n",
    "print(sorted(set(name_list)))"
   ]
  },
  {
   "cell_type": "code",
   "execution_count": null,
   "metadata": {},
   "outputs": [],
   "source": []
  },
  {
   "cell_type": "markdown",
   "metadata": {},
   "source": [
    "### Duplicate numbers\n",
    "* When inputting a number from 0 to 9, obtain a function that checks whether this input value is used only once each from 0 to 9.\n",
    "\n",
    "---------------------------------\n",
    "* 0부터 9까지 10개가 있는지 확인, 길이 확인\n",
    "* sorted 함수 = 정렬과 동시에 string이 분리된다. = sorted(list(s))"
   ]
  },
  {
   "cell_type": "code",
   "execution_count": 13,
   "metadata": {},
   "outputs": [
    {
     "name": "stdout",
     "output_type": "stream",
     "text": [
      "Enther the number : 0123456789 01234 01234567890 6789012345 012322456789\n"
     ]
    }
   ],
   "source": [
    "sample = input(\"Enther the number : \")"
   ]
  },
  {
   "cell_type": "code",
   "execution_count": 16,
   "metadata": {},
   "outputs": [
    {
     "data": {
      "text/plain": [
       "['0123456789', '01234', '01234567890', '6789012345', '012322456789']"
      ]
     },
     "execution_count": 16,
     "metadata": {},
     "output_type": "execute_result"
    }
   ],
   "source": [
    "sample.split()"
   ]
  },
  {
   "cell_type": "code",
   "execution_count": 24,
   "metadata": {},
   "outputs": [
    {
     "name": "stdout",
     "output_type": "stream",
     "text": [
      "True\n",
      "False\n",
      "False\n",
      "True\n",
      "False\n"
     ]
    }
   ],
   "source": [
    "ss = sample.split()\n",
    "\n",
    "for i in ss:\n",
    "    sort_n = sorted(i)\n",
    "    sort_n = ''.join(sort_n)\n",
    "    if sort_n == \"0123456789\":\n",
    "        print(\"True\")\n",
    "    else:\n",
    "        print(\"False\")\n",
    "        "
   ]
  },
  {
   "cell_type": "code",
   "execution_count": null,
   "metadata": {},
   "outputs": [],
   "source": []
  },
  {
   "cell_type": "markdown",
   "metadata": {},
   "source": [
    "### Str_zip*\n",
    "* Compresses a string by displaying the number of iterations if the same character is repeated consecutively\n",
    "\n",
    "--------------------------------------\n",
    "* 연속적으로 반복되는 횟수 출력, 그 문자를 앞에 1개 출력\n",
    "* 첫문자와 끝문자가 다름을 이용"
   ]
  },
  {
   "cell_type": "code",
   "execution_count": 15,
   "metadata": {},
   "outputs": [
    {
     "name": "stdout",
     "output_type": "stream",
     "text": [
      "a3b3c7a1\n"
     ]
    }
   ],
   "source": [
    "s = 'aaabbbccccccca'\n",
    "\n",
    "result = s[0]\n",
    "count = 0\n",
    "\n",
    "for i in s:\n",
    "    if i == result[-1]:\n",
    "        count += 1\n",
    "    else:\n",
    "        result += str(count) + i\n",
    "        count = 1\n",
    "result += str(count)\n",
    "\n",
    "print(result)"
   ]
  },
  {
   "cell_type": "markdown",
   "metadata": {},
   "source": [
    "----------------------\n",
    "###### 연속적으로 나오는 것 말고 문자 횟수 카운트\n",
    "\n",
    "* 다중리스트를 하나의 리스트로 만드는 방법\n",
    "\n",
    "* 문자열 숫자열이 포함되어있을 때 join을 하기전 map함수를 사용."
   ]
  },
  {
   "cell_type": "code",
   "execution_count": 114,
   "metadata": {},
   "outputs": [
    {
     "name": "stdout",
     "output_type": "stream",
     "text": [
      "[['a', 4], ['c', 7], ['b', 3]]\n"
     ]
    }
   ],
   "source": [
    "a = 'aaabbbccccccca'\n",
    "non_iter_a = list(set(a))\n",
    "\n",
    "list_a = []\n",
    "\n",
    "for i in non_iter_a:\n",
    "    list_a.append([i, a.count(i)])\n",
    "\n",
    "print(list_a)"
   ]
  },
  {
   "cell_type": "code",
   "execution_count": 110,
   "metadata": {},
   "outputs": [
    {
     "name": "stdout",
     "output_type": "stream",
     "text": [
      "['a', 4, 'c', 7, 'b', 3]\n"
     ]
    }
   ],
   "source": [
    "flatten = []\n",
    "for x in list_a:\n",
    "    for y in x:\n",
    "        flatten.append(y)\n",
    "        \n",
    "print(flatten)"
   ]
  },
  {
   "cell_type": "code",
   "execution_count": 112,
   "metadata": {},
   "outputs": [
    {
     "data": {
      "text/plain": [
       "'a4c7b3'"
      ]
     },
     "execution_count": 112,
     "metadata": {},
     "output_type": "execute_result"
    }
   ],
   "source": [
    "''.join(map(str, flatten))"
   ]
  },
  {
   "cell_type": "code",
   "execution_count": null,
   "metadata": {},
   "outputs": [],
   "source": []
  },
  {
   "cell_type": "markdown",
   "metadata": {},
   "source": [
    "### 3n+1 Problem\n",
    "* It starts at some integer n. If n is even, divide by 2, if odd, multiply by 3 and add 1. This sets the newly created number to n, and repaets the same operation until n=1.\n",
    "* When the value of n is entered, the number(including 1) of numbers created until 1 is called n cycle length. \n",
    "* Find the maximum cycle length for all numbers(including i and j) between i and j."
   ]
  },
  {
   "cell_type": "markdown",
   "metadata": {},
   "source": []
  },
  {
   "cell_type": "code",
   "execution_count": 14,
   "metadata": {},
   "outputs": [],
   "source": [
    "def cycle(n):\n",
    "    result = [n]\n",
    "\n",
    "    while n > 1:\n",
    "        if n % 2 == 0:\n",
    "            n = n / 2\n",
    "        else:\n",
    "            n = n * 3 + 1\n",
    "\n",
    "        result.append(round(n))\n",
    "\n",
    "    return result"
   ]
  },
  {
   "cell_type": "code",
   "execution_count": 72,
   "metadata": {},
   "outputs": [],
   "source": [
    "i = 1\n",
    "j = 10\n",
    "\n",
    "def result_cyc(i, j):\n",
    "    list_range = []\n",
    "\n",
    "    for k in range(i, j+1):\n",
    "        list_range.append(len(cycle(k)))\n",
    "\n",
    "    return max(list_range)"
   ]
  },
  {
   "cell_type": "code",
   "execution_count": 73,
   "metadata": {},
   "outputs": [
    {
     "data": {
      "text/html": [
       "<div>\n",
       "<style scoped>\n",
       "    .dataframe tbody tr th:only-of-type {\n",
       "        vertical-align: middle;\n",
       "    }\n",
       "\n",
       "    .dataframe tbody tr th {\n",
       "        vertical-align: top;\n",
       "    }\n",
       "\n",
       "    .dataframe thead th {\n",
       "        text-align: right;\n",
       "    }\n",
       "</style>\n",
       "<table border=\"1\" class=\"dataframe\">\n",
       "  <thead>\n",
       "    <tr style=\"text-align: right;\">\n",
       "      <th></th>\n",
       "      <th>i</th>\n",
       "      <th>j</th>\n",
       "    </tr>\n",
       "  </thead>\n",
       "  <tbody>\n",
       "    <tr>\n",
       "      <th>0</th>\n",
       "      <td>1</td>\n",
       "      <td>10</td>\n",
       "    </tr>\n",
       "    <tr>\n",
       "      <th>1</th>\n",
       "      <td>100</td>\n",
       "      <td>200</td>\n",
       "    </tr>\n",
       "    <tr>\n",
       "      <th>2</th>\n",
       "      <td>201</td>\n",
       "      <td>210</td>\n",
       "    </tr>\n",
       "    <tr>\n",
       "      <th>3</th>\n",
       "      <td>900</td>\n",
       "      <td>1000</td>\n",
       "    </tr>\n",
       "  </tbody>\n",
       "</table>\n",
       "</div>"
      ],
      "text/plain": [
       "     i     j\n",
       "0    1    10\n",
       "1  100   200\n",
       "2  201   210\n",
       "3  900  1000"
      ]
     },
     "execution_count": 73,
     "metadata": {},
     "output_type": "execute_result"
    }
   ],
   "source": [
    "import pandas as pd\n",
    "\n",
    "data = pd.DataFrame({'i':[1, 100, 201, 900], 'j':[10, 200, 210, 1000]})\n",
    "data"
   ]
  },
  {
   "cell_type": "code",
   "execution_count": 76,
   "metadata": {},
   "outputs": [
    {
     "data": {
      "text/plain": [
       "[20, 125, 89, 174]"
      ]
     },
     "execution_count": 76,
     "metadata": {},
     "output_type": "execute_result"
    }
   ],
   "source": [
    "cyc_list = []\n",
    "\n",
    "for k in range(data.shape[0]):\n",
    "    result = result_cyc(data['i'][k], data['j'][k])\n",
    "    cyc_list.append(result) \n",
    "    \n",
    "cyc_list"
   ]
  },
  {
   "cell_type": "code",
   "execution_count": 78,
   "metadata": {},
   "outputs": [
    {
     "data": {
      "text/html": [
       "<div>\n",
       "<style scoped>\n",
       "    .dataframe tbody tr th:only-of-type {\n",
       "        vertical-align: middle;\n",
       "    }\n",
       "\n",
       "    .dataframe tbody tr th {\n",
       "        vertical-align: top;\n",
       "    }\n",
       "\n",
       "    .dataframe thead th {\n",
       "        text-align: right;\n",
       "    }\n",
       "</style>\n",
       "<table border=\"1\" class=\"dataframe\">\n",
       "  <thead>\n",
       "    <tr style=\"text-align: right;\">\n",
       "      <th></th>\n",
       "      <th>i</th>\n",
       "      <th>j</th>\n",
       "      <th>result</th>\n",
       "    </tr>\n",
       "  </thead>\n",
       "  <tbody>\n",
       "    <tr>\n",
       "      <th>0</th>\n",
       "      <td>1</td>\n",
       "      <td>10</td>\n",
       "      <td>20</td>\n",
       "    </tr>\n",
       "    <tr>\n",
       "      <th>1</th>\n",
       "      <td>100</td>\n",
       "      <td>200</td>\n",
       "      <td>125</td>\n",
       "    </tr>\n",
       "    <tr>\n",
       "      <th>2</th>\n",
       "      <td>201</td>\n",
       "      <td>210</td>\n",
       "      <td>89</td>\n",
       "    </tr>\n",
       "    <tr>\n",
       "      <th>3</th>\n",
       "      <td>900</td>\n",
       "      <td>1000</td>\n",
       "      <td>174</td>\n",
       "    </tr>\n",
       "  </tbody>\n",
       "</table>\n",
       "</div>"
      ],
      "text/plain": [
       "     i     j  result\n",
       "0    1    10      20\n",
       "1  100   200     125\n",
       "2  201   210      89\n",
       "3  900  1000     174"
      ]
     },
     "execution_count": 78,
     "metadata": {},
     "output_type": "execute_result"
    }
   ],
   "source": [
    "data['result'] = cyc_list\n",
    "data"
   ]
  },
  {
   "cell_type": "code",
   "execution_count": null,
   "metadata": {},
   "outputs": [],
   "source": []
  },
  {
   "cell_type": "markdown",
   "metadata": {},
   "source": [
    "### 3_Second\n",
    "* What is the total number of seconds that a digital clock displays 3time in the day(00:00 ~ 23:59)?"
   ]
  },
  {
   "cell_type": "code",
   "execution_count": 113,
   "metadata": {},
   "outputs": [
    {
     "name": "stdout",
     "output_type": "stream",
     "text": [
      "29700\n"
     ]
    }
   ],
   "source": [
    "sec = 0\n",
    "\n",
    "for h in range(24):\n",
    "    for m in range(60):\n",
    "        if '3' in str(h) or '3' in str(m):\n",
    "            sec += 60\n",
    "            \n",
    "print(sec)"
   ]
  },
  {
   "cell_type": "markdown",
   "metadata": {},
   "source": [
    "-------------------\n",
    "* 3이 들어가는 시간, 분을 초로 변환"
   ]
  },
  {
   "cell_type": "code",
   "execution_count": 121,
   "metadata": {},
   "outputs": [
    {
     "data": {
      "text/plain": [
       "169200"
      ]
     },
     "execution_count": 121,
     "metadata": {},
     "output_type": "execute_result"
    }
   ],
   "source": [
    "hour_sec = 0\n",
    "min_sec = 0\n",
    "\n",
    "for h in range(24):\n",
    "    if '3' in str(h):\n",
    "        hour_sec += h*60*60\n",
    "    \n",
    "for m in range(60):\n",
    "    if '3' in str(m):\n",
    "        min_sec += m*60\n",
    "            \n",
    "hour_sec + min_sec"
   ]
  },
  {
   "cell_type": "code",
   "execution_count": null,
   "metadata": {},
   "outputs": [],
   "source": []
  },
  {
   "cell_type": "markdown",
   "metadata": {},
   "source": [
    "### 10_n_Transfer***\n",
    "* Write a progoram that converts Binary number, Octal number, Hexadecimal(16) to decimal numbers(10)."
   ]
  },
  {
   "cell_type": "markdown",
   "metadata": {},
   "source": [
    "n으로 수를 나눠가며 나오는 나머지 값들을 반환, divmod를 사용해보자\n",
    "\n",
    "0~9, A~F까지\n",
    "\n",
    "--------\n",
    "함수안에 함수를 사용한 리턴이 사용가능하다??\n",
    "모르것다"
   ]
  },
  {
   "cell_type": "code",
   "execution_count": 4,
   "metadata": {},
   "outputs": [],
   "source": [
    "def Trans_number(num, div):\n",
    "    Text = \"0123456789ABCDEF\"\n",
    "    \n",
    "    quotient, remainder = divmod(num, div)\n",
    "    \n",
    "    if quotient == 0:\n",
    "        return Text[remainder]\n",
    "    else:\n",
    "        return Trans_number(quotient, div) + Text[remainder]"
   ]
  },
  {
   "cell_type": "code",
   "execution_count": 3,
   "metadata": {},
   "outputs": [
    {
     "name": "stdout",
     "output_type": "stream",
     "text": [
      "11101001\n",
      "351\n",
      "E9\n"
     ]
    }
   ],
   "source": [
    "print(Trans_number(233, 2))\n",
    "print(Trans_number(233, 8))\n",
    "print(Trans_number(233, 16))"
   ]
  },
  {
   "cell_type": "code",
   "execution_count": null,
   "metadata": {},
   "outputs": [],
   "source": []
  },
  {
   "cell_type": "markdown",
   "metadata": {},
   "source": [
    "### Pothole_case\n",
    "* Add _ before the number, change upper case to lower case and add _ before"
   ]
  },
  {
   "cell_type": "code",
   "execution_count": 128,
   "metadata": {},
   "outputs": [],
   "source": [
    "def pothole(name):\n",
    "    trf = ''\n",
    "    \n",
    "    for i in name:\n",
    "        if i.isupper():\n",
    "            i = '_' + i.lower()\n",
    "        elif i.isdigit():\n",
    "            i = '_' + i\n",
    "            \n",
    "        trf += i\n",
    "    return trf"
   ]
  },
  {
   "cell_type": "code",
   "execution_count": 129,
   "metadata": {},
   "outputs": [
    {
     "name": "stdout",
     "output_type": "stream",
     "text": [
      "coding_dojang\n",
      "num_goat_3_0\n"
     ]
    }
   ],
   "source": [
    "print(pothole('codingDojang'))\n",
    "print(pothole('numGoat30'))"
   ]
  },
  {
   "cell_type": "code",
   "execution_count": null,
   "metadata": {},
   "outputs": [],
   "source": []
  },
  {
   "cell_type": "markdown",
   "metadata": {},
   "source": [
    "### Printing OXs\n",
    "    n = 6 =>\n",
    "    ooooox\n",
    "    ooooxx\n",
    "    oooxxx\n",
    "    ooxxxx\n",
    "    oxxxxx\n",
    "    xxxxxx"
   ]
  },
  {
   "cell_type": "code",
   "execution_count": 134,
   "metadata": {},
   "outputs": [
    {
     "name": "stdout",
     "output_type": "stream",
     "text": [
      "OOOOOO\n",
      "OOOOOX\n",
      "OOOOXX\n",
      "OOOXXX\n",
      "OOXXXX\n",
      "OXXXXX\n",
      "XXXXXX\n"
     ]
    }
   ],
   "source": [
    "n = 6\n",
    "\n",
    "for i in range(n+1):\n",
    "    print('O'*(n-i) + 'X'*(i))"
   ]
  },
  {
   "cell_type": "code",
   "execution_count": null,
   "metadata": {},
   "outputs": [],
   "source": []
  },
  {
   "cell_type": "markdown",
   "metadata": {},
   "source": [
    "### Fibonacci\n",
    "* A Fibonacci sequence is a sequence of values where the first term is 0 and the second term is 1, and the following terms are the sum of the previous two terms."
   ]
  },
  {
   "cell_type": "code",
   "execution_count": 135,
   "metadata": {},
   "outputs": [
    {
     "name": "stdout",
     "output_type": "stream",
     "text": [
      "Enter the number : 10\n"
     ]
    }
   ],
   "source": [
    "input_n = int(input(\"Enter the number : \"))"
   ]
  },
  {
   "cell_type": "code",
   "execution_count": 137,
   "metadata": {},
   "outputs": [
    {
     "name": "stdout",
     "output_type": "stream",
     "text": [
      "[0, 1, 1, 2, 3, 5, 8, 13, 21, 34, 55, 89]\n"
     ]
    }
   ],
   "source": [
    "initial_result = [0, 1]\n",
    "\n",
    "for i in range(input_n):\n",
    "    initial_result.append(initial_result[i] + initial_result[i+1])\n",
    "    \n",
    "print(initial_result)"
   ]
  },
  {
   "cell_type": "code",
   "execution_count": null,
   "metadata": {},
   "outputs": [],
   "source": []
  }
 ],
 "metadata": {
  "kernelspec": {
   "display_name": "Python 3",
   "language": "python",
   "name": "python3"
  },
  "language_info": {
   "codemirror_mode": {
    "name": "ipython",
    "version": 3
   },
   "file_extension": ".py",
   "mimetype": "text/x-python",
   "name": "python",
   "nbconvert_exporter": "python",
   "pygments_lexer": "ipython3",
   "version": "3.5.5"
  }
 },
 "nbformat": 4,
 "nbformat_minor": 1
}
