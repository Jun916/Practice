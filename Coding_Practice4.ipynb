{
 "cells": [
  {
   "cell_type": "markdown",
   "metadata": {
    "collapsed": true
   },
   "source": [
    "### Memory_dynamic\n",
    "1. 입력할 정수의 개수를 입력 받는다.\n",
    "2. 그 정수만큼 입력 받는다.\n",
    "3. 정수의 합과 평균 출력\n",
    "4. 할당된 메모리 비우기\n",
    "\n",
    "\n",
    "- 메모리 공간은 사용자의 입력 수의 따라 변동\n",
    "- 사용한 공간은 마지막에 비운다\n",
    "- 배열을 사용하지 마라"
   ]
  },
  {
   "cell_type": "code",
   "execution_count": 1,
   "metadata": {},
   "outputs": [
    {
     "name": "stdout",
     "output_type": "stream",
     "text": [
      "Enter the number : 45\n"
     ]
    }
   ],
   "source": [
    "n = int(input(\"Enter the number : \"))"
   ]
  },
  {
   "cell_type": "code",
   "execution_count": 2,
   "metadata": {},
   "outputs": [],
   "source": [
    "import numpy as np\n",
    "\n",
    "n_n = np.random.randint(0, 100, n)"
   ]
  },
  {
   "cell_type": "code",
   "execution_count": 3,
   "metadata": {},
   "outputs": [
    {
     "name": "stdout",
     "output_type": "stream",
     "text": [
      "2317 51.48888888888889\n"
     ]
    }
   ],
   "source": [
    "sum = 0\n",
    "for i in n_n:\n",
    "    sum += i\n",
    "    \n",
    "m = sum/len(n_n)\n",
    "\n",
    "print(sum, m)\n",
    "\n",
    "del n, n_n, i, sum, m"
   ]
  },
  {
   "cell_type": "code",
   "execution_count": null,
   "metadata": {},
   "outputs": [],
   "source": []
  },
  {
   "cell_type": "markdown",
   "metadata": {},
   "source": [
    "### Amazon_prob\n",
    "\n",
    "* 배열의 형태 바꾸기\n",
    "\n",
    "extend 사용"
   ]
  },
  {
   "cell_type": "code",
   "execution_count": 4,
   "metadata": {},
   "outputs": [],
   "source": [
    "l = ['a1','a2','a3','a4','a10','a11','b1','b2','b3','b4','b10','b11']"
   ]
  },
  {
   "cell_type": "code",
   "execution_count": 5,
   "metadata": {},
   "outputs": [],
   "source": [
    "l1 = l[:int(len(l)/2)]\n",
    "l2 = l[int(len(l)/2):]"
   ]
  },
  {
   "cell_type": "code",
   "execution_count": 6,
   "metadata": {},
   "outputs": [
    {
     "name": "stdout",
     "output_type": "stream",
     "text": [
      "['a1', 'b1', 'a2', 'b2', 'a3', 'b3', 'a4', 'b4', 'a10', 'b10', 'a11', 'b11']\n"
     ]
    }
   ],
   "source": [
    "result = []\n",
    "\n",
    "for i1, i2 in zip(l1, l2):\n",
    "    result.extend([i1, i2])\n",
    "    \n",
    "print(result)"
   ]
  },
  {
   "cell_type": "code",
   "execution_count": null,
   "metadata": {},
   "outputs": [],
   "source": []
  },
  {
   "cell_type": "markdown",
   "metadata": {},
   "source": [
    "### Same_front_end***\n",
    "\n",
    "* 바로 쓴 수 = 거꾸로 쓴 수, 이중에서 0 이상의 앞뒤가 같은 수를 크기 순으로 나열 할 때, n 번째 수 계산."
   ]
  },
  {
   "cell_type": "code",
   "execution_count": 9,
   "metadata": {},
   "outputs": [
    {
     "name": "stdout",
     "output_type": "stream",
     "text": [
      "[0, 1, 2, 3, 4, 5, 6, 7, 8, 9, 11, 22, 33, 44, 55, 66, 77, 88, 99, 101, 111, 121, 131, 141, 151, 161, 171, 181, 191, 202, 212, 222, 232, 242, 252, 262, 272, 282, 292, 303, 313, 323, 333, 343, 353, 363, 373, 383, 393, 404, 414, 424, 434, 444, 454, 464, 474, 484, 494, 505, 515, 525, 535, 545, 555, 565, 575, 585, 595, 606, 616, 626, 636, 646, 656, 666, 676, 686, 696, 707, 717, 727, 737, 747, 757, 767, 777, 787, 797, 808, 818, 828, 838, 848, 858, 868, 878, 888, 898, 909, 919, 929, 939, 949, 959, 969, 979, 989, 999, 1001, 1111, 1221, 1331, 1441, 1551, 1661, 1771, 1881, 1991, 2002, 2112, 2222, 2332, 2442, 2552, 2662, 2772, 2882, 2992, 3003, 3113, 3223, 3333, 3443, 3553, 3663, 3773, 3883, 3993, 4004, 4114, 4224, 4334, 4444, 4554, 4664, 4774, 4884, 4994, 5005, 5115, 5225, 5335, 5445, 5555, 5665, 5775, 5885, 5995, 6006, 6116, 6226, 6336, 6446, 6556, 6666, 6776, 6886, 6996, 7007, 7117, 7227, 7337, 7447, 7557, 7667, 7777, 7887, 7997, 8008, 8118, 8228, 8338, 8448, 8558, 8668, 8778, 8888, 8998, 9009, 9119, 9229, 9339, 9449, 9559, 9669, 9779, 9889, 9999]\n"
     ]
    }
   ],
   "source": [
    "# 앞뒤가 같은 수 집합 만들기\n",
    "same = []\n",
    "\n",
    "for i in range(10000):\n",
    "    i = str(i)\n",
    "    if i == i[::-1]:\n",
    "        same.append(int(i))\n",
    "        \n",
    "print(same)"
   ]
  },
  {
   "cell_type": "code",
   "execution_count": 14,
   "metadata": {},
   "outputs": [
    {
     "data": {
      "text/plain": [
       "202"
      ]
     },
     "execution_count": 14,
     "metadata": {},
     "output_type": "execute_result"
    }
   ],
   "source": [
    "# 입력 n번째 수는 무엇인가???\n",
    "n = 30\n",
    "same[n-1]"
   ]
  },
  {
   "cell_type": "markdown",
   "metadata": {},
   "source": [
    "----------------------------------------\n",
    "* 위는 100000000 부터는 기다릴 수 있는 속도가 아님\n",
    "\n",
    "\n",
    "1. 자리수의 앞뒤가 같은수를 만드는 함수 bar를 만들어 연산\n",
    "2. getPalindromes : l길이의 해당 수들의 집합을 구한다."
   ]
  },
  {
   "cell_type": "code",
   "execution_count": 24,
   "metadata": {},
   "outputs": [],
   "source": [
    "def bar(n):\n",
    "    pLen = 1\n",
    "    lenTotal = 0\n",
    "    \n",
    "    while lenTotal < n:\n",
    "        palindromes = getpalindromes(pLen)\n",
    "        lenTotal += len(palindromes)\n",
    "        pLen += 1\n",
    "        \n",
    "    print(palindromes[n-1-lenTotal])"
   ]
  },
  {
   "cell_type": "code",
   "execution_count": 25,
   "metadata": {},
   "outputs": [],
   "source": [
    "def getpalindromes(l):\n",
    "    palindromes = []\n",
    "    \n",
    "    if l == 1:\n",
    "        for i in range(10):\n",
    "            palindromes.append(i)\n",
    "            \n",
    "    # 길이가 l 인 것중에 2로 나누어 떨어지면 아래 범위를 사용해 그대로와 거꾸로는 붙임.\n",
    "    elif l % 2 == 0:\n",
    "        halfLen = l // 2\n",
    "        for i in range(10 ** (halfLen-1), 10 ** halfLen):\n",
    "            palindromes.append(int(str(i) + str(i)[::-1]))\n",
    "            \n",
    "    # 2로 나누어 떨어지지 않으면 중간에 숫자 추가.\n",
    "    else:\n",
    "        halfLen = (l-1) // 2\n",
    "        for i in range(0, 10):\n",
    "            for j in range(10 ** (halfLen-1), 10 ** halfLen):\n",
    "                palindromes.append(int(str(j) + str(i) + str(j)[::-1]))\n",
    "                \n",
    "    palindromes.sort()\n",
    "    return palindromes"
   ]
  },
  {
   "cell_type": "code",
   "execution_count": 26,
   "metadata": {},
   "outputs": [
    {
     "name": "stdout",
     "output_type": "stream",
     "text": [
      "0\n",
      "3\n",
      "202\n",
      "909\n",
      "200000002\n",
      "90000000009\n"
     ]
    }
   ],
   "source": [
    "bar(1)\n",
    "bar(4)\n",
    "bar(30)\n",
    "bar(100)\n",
    "bar(30000)\n",
    "bar(1000000)"
   ]
  },
  {
   "cell_type": "code",
   "execution_count": null,
   "metadata": {},
   "outputs": [],
   "source": []
  },
  {
   "cell_type": "markdown",
   "metadata": {},
   "source": [
    "### Ones\n",
    "* 2, 5로 나눌 수 없는 0~10000 정수 n이 주어질 때\n",
    "* n의 배수 중에서 모든 자리 숫자가 1인 것이 있다. 그러한 n의 배수 중 가장 작은 것은 몇자리 수?\n"
   ]
  },
  {
   "cell_type": "code",
   "execution_count": 6,
   "metadata": {},
   "outputs": [],
   "source": [
    "def Ones(number):\n",
    "    b = '1'\n",
    "    while int(b) % number != 0:\n",
    "        b += '1'\n",
    "\n",
    "    return print(len(b), b)"
   ]
  },
  {
   "cell_type": "code",
   "execution_count": 8,
   "metadata": {},
   "outputs": [
    {
     "name": "stdout",
     "output_type": "stream",
     "text": [
      "3 111\n",
      "6 111111\n",
      "12 111111111111\n"
     ]
    }
   ],
   "source": [
    "Ones(3)\n",
    "Ones(7)\n",
    "Ones(9901)"
   ]
  },
  {
   "cell_type": "code",
   "execution_count": null,
   "metadata": {},
   "outputs": [],
   "source": []
  },
  {
   "cell_type": "markdown",
   "metadata": {},
   "source": [
    "### Zero_count_back*\n",
    "* N 팩토리얼로 나온 수의 뒤에서 부터 연속되는 0의 갯수를 구하라.\n",
    "\n",
    "---------------------------\n",
    "* yield라는 generater를 사용해서 추출한 내용들을 iterater로써 저장이 되어 그 후 for를 사용해 보면 해당 함수에 저장된 yield들이 반복된다."
   ]
  },
  {
   "cell_type": "code",
   "execution_count": 10,
   "metadata": {},
   "outputs": [],
   "source": [
    "def Factorial(n):\n",
    "    mul = 1\n",
    "    for i in range(1, n+1):\n",
    "        mul *= i\n",
    "    \n",
    "    return mul"
   ]
  },
  {
   "cell_type": "code",
   "execution_count": 22,
   "metadata": {},
   "outputs": [],
   "source": [
    "def Zero_Back_count(n):\n",
    "    for i in str(Factorial(n))[::-1]:\n",
    "        if i == '0':\n",
    "            yield i\n",
    "        else:\n",
    "            break"
   ]
  },
  {
   "cell_type": "code",
   "execution_count": 28,
   "metadata": {},
   "outputs": [],
   "source": [
    "def Zero(n):\n",
    "    return print(len([x for x in Zero_Back_count(n)]))"
   ]
  },
  {
   "cell_type": "code",
   "execution_count": 29,
   "metadata": {},
   "outputs": [
    {
     "name": "stdout",
     "output_type": "stream",
     "text": [
      "2\n",
      "6\n"
     ]
    }
   ],
   "source": [
    "Zero(12)\n",
    "Zero(25)"
   ]
  },
  {
   "cell_type": "markdown",
   "metadata": {},
   "source": [
    "----------------------------------\n",
    "* lambda = def return\n",
    "* takewhile = 첫 인자에 준 조건이 계속 추출 하고 조건이 맞으면 정지한다."
   ]
  },
  {
   "cell_type": "code",
   "execution_count": 1,
   "metadata": {},
   "outputs": [],
   "source": [
    "from itertools import takewhile\n",
    "from math import factorial"
   ]
  },
  {
   "cell_type": "code",
   "execution_count": 6,
   "metadata": {},
   "outputs": [
    {
     "name": "stdout",
     "output_type": "stream",
     "text": [
      "['0', '0', '0', '0', '0', '0']\n",
      "6\n"
     ]
    }
   ],
   "source": [
    "rever_factorial = str(factorial(25))[::-1]\n",
    "zero_result = takewhile(lambda x : x=='0', rever_factorial)\n",
    "zero_result = list(zero_result)\n",
    "print(zero_result)\n",
    "print(len(zero_result))"
   ]
  },
  {
   "cell_type": "code",
   "execution_count": null,
   "metadata": {},
   "outputs": [],
   "source": []
  },
  {
   "cell_type": "markdown",
   "metadata": {},
   "source": [
    "### Decimal_number**\n",
    "* 2~1000 자연수의 집합에서 소수의 개수를 구하라"
   ]
  },
  {
   "cell_type": "code",
   "execution_count": 10,
   "metadata": {},
   "outputs": [],
   "source": [
    "# 에라토스테네스의 체\n",
    "def prime_list(n):\n",
    "    sieve = [True] * n\n",
    "    \n",
    "    m = int(n ** 0.5)\n",
    "    for i in range(2, m+1):\n",
    "        if sieve[i] == True:\n",
    "            for j in range(i+i, n, i):\n",
    "                sieve[j] = False\n",
    "            \n",
    "    return [x for x in range(2, n) if sieve[x] == True]"
   ]
  },
  {
   "cell_type": "code",
   "execution_count": 13,
   "metadata": {},
   "outputs": [
    {
     "name": "stdout",
     "output_type": "stream",
     "text": [
      "664579\n",
      "2.0723354816436768\n"
     ]
    }
   ],
   "source": [
    "import time\n",
    "start_time = time.time()\n",
    "\n",
    "print(len(prime_list(10000000)))\n",
    "\n",
    "end_time = time.time() - start_time\n",
    "print(end_time)"
   ]
  },
  {
   "cell_type": "code",
   "execution_count": 17,
   "metadata": {},
   "outputs": [
    {
     "name": "stdout",
     "output_type": "stream",
     "text": [
      "Wall time: 2.08 s\n"
     ]
    },
    {
     "data": {
      "text/plain": [
       "664579"
      ]
     },
     "execution_count": 17,
     "metadata": {},
     "output_type": "execute_result"
    }
   ],
   "source": [
    "%time len(prime_list(10000000))"
   ]
  },
  {
   "cell_type": "code",
   "execution_count": null,
   "metadata": {},
   "outputs": [],
   "source": []
  },
  {
   "cell_type": "markdown",
   "metadata": {},
   "source": [
    "### Comma_insert**\n",
    "* 콤마가 포함된 문자열로 바꾸기\n",
    "\n",
    "---------------------------\n",
    "* 재귀함수 = 함수 안에서 함수를 사용."
   ]
  },
  {
   "cell_type": "code",
   "execution_count": 22,
   "metadata": {},
   "outputs": [],
   "source": [
    "def Comma(number):\n",
    "    number = str(number)\n",
    "    \n",
    "    if number[0] == '-':\n",
    "        return '-' + Comma(number[1:])\n",
    "    if len(number) <= 3:\n",
    "        return number\n",
    "    if number.find('.') == -1:\n",
    "        return Comma(number[:-3]) + ',' + number[-3:]\n",
    "    else:\n",
    "        return Comma(number[:number.find('.')]) + number[number.find('.'):]"
   ]
  },
  {
   "cell_type": "code",
   "execution_count": 23,
   "metadata": {},
   "outputs": [
    {
     "name": "stdout",
     "output_type": "stream",
     "text": [
      "1,000\n",
      "20,000,000\n",
      "-3,245.24\n"
     ]
    }
   ],
   "source": [
    "print(Comma(1000))\n",
    "print(Comma(20000000))\n",
    "print(Comma(-3245.24))"
   ]
  },
  {
   "cell_type": "code",
   "execution_count": null,
   "metadata": {},
   "outputs": [],
   "source": []
  },
  {
   "cell_type": "markdown",
   "metadata": {},
   "source": [
    "### Simple Balanced parentheses\n",
    "* 정상적인 괄호를 판별하라, 괄호의 수도 같고, 짝수에, 양 2번째 끝 쪽까지 반대야 한다."
   ]
  },
  {
   "cell_type": "code",
   "execution_count": 28,
   "metadata": {},
   "outputs": [],
   "source": [
    "def Balanced(P):\n",
    "    if len(P) % 2 == 0 and \\\n",
    "    P.count('(') == P.count(')') and \\\n",
    "    P[0] != P[-1] and P[1] != P[-2] and \\\n",
    "    P[0] == '(':\n",
    "        return print(True)\n",
    "    else:\n",
    "        return print(False)"
   ]
  },
  {
   "cell_type": "code",
   "execution_count": 33,
   "metadata": {},
   "outputs": [
    {
     "name": "stdout",
     "output_type": "stream",
     "text": [
      "True\n",
      "True\n",
      "True\n",
      "False\n",
      "False\n",
      "False\n",
      "False\n",
      "True\n",
      "True\n",
      "True\n"
     ]
    }
   ],
   "source": [
    "Balanced('(()()()())')\n",
    "Balanced('(((())))')\n",
    "Balanced('(()((())()))')\n",
    "Balanced('((((((())')\n",
    "Balanced('()))')\n",
    "Balanced('(()()(()')\n",
    "Balanced('(()))(')\n",
    "Balanced('())(()')   # 실패\n",
    "Balanced('()')\n",
    "Balanced('()()')"
   ]
  },
  {
   "cell_type": "markdown",
   "metadata": {},
   "source": [
    "--------------------------------------\n",
    "* where을 사용해 해당 index값의 위치 파악\n",
    "* 요소 별로 빼서 모두 음수면 True, 하나라도 양수가 있으면 False"
   ]
  },
  {
   "cell_type": "code",
   "execution_count": 1,
   "metadata": {},
   "outputs": [
    {
     "name": "stdout",
     "output_type": "stream",
     "text": [
      "(array([0, 3, 4], dtype=int64),)\n",
      "(array([1, 2, 5], dtype=int64),)\n"
     ]
    }
   ],
   "source": [
    "import numpy as np\n",
    "\n",
    "P = '())(()'\n",
    "PP = np.array(list(P))\n",
    "\n",
    "nn = np.where(PP=='(')\n",
    "nn_r = np.where(PP==')')\n",
    "print(nn)\n",
    "print(nn_r)"
   ]
  },
  {
   "cell_type": "code",
   "execution_count": 2,
   "metadata": {},
   "outputs": [
    {
     "data": {
      "text/plain": [
       "False"
      ]
     },
     "execution_count": 2,
     "metadata": {},
     "output_type": "execute_result"
    }
   ],
   "source": [
    "if len(nn[0]) == len(nn_r[0]):\n",
    "    result = nn[0] - nn_r[0]\n",
    "\n",
    "list = []\n",
    "for x in result:\n",
    "    if x > 0:\n",
    "        list.append(0)\n",
    "    else:\n",
    "        list.append(1)\n",
    "\n",
    "all(list)"
   ]
  },
  {
   "cell_type": "code",
   "execution_count": 7,
   "metadata": {},
   "outputs": [],
   "source": [
    "# error 해결 못함.............\n",
    "\n",
    "def Balanced2(s):\n",
    "    P = s\n",
    "    PP = np.array(list(P))\n",
    "\n",
    "    nn = np.where(PP=='(')\n",
    "    nn_r = np.where(PP==')')\n",
    "\n",
    "    if len(nn[0]) == len(nn_r[0]):\n",
    "        result = nn[0] - nn_r[0]\n",
    "\n",
    "    list = []\n",
    "    for x in result:\n",
    "        if x > 0:\n",
    "            list.append(0)\n",
    "        else:\n",
    "            list.append(1)\n",
    "\n",
    "    return all(list)"
   ]
  },
  {
   "cell_type": "code",
   "execution_count": 8,
   "metadata": {},
   "outputs": [
    {
     "ename": "UnboundLocalError",
     "evalue": "local variable 'list' referenced before assignment",
     "output_type": "error",
     "traceback": [
      "\u001b[1;31m---------------------------------------------------------------------------\u001b[0m",
      "\u001b[1;31mUnboundLocalError\u001b[0m                         Traceback (most recent call last)",
      "\u001b[1;32m<ipython-input-8-32ed3d4bb56d>\u001b[0m in \u001b[0;36m<module>\u001b[1;34m()\u001b[0m\n\u001b[1;32m----> 1\u001b[1;33m \u001b[0mBalanced2\u001b[0m\u001b[1;33m(\u001b[0m\u001b[1;34m'(()()()())'\u001b[0m\u001b[1;33m)\u001b[0m\u001b[1;33m\u001b[0m\u001b[0m\n\u001b[0m",
      "\u001b[1;32m<ipython-input-7-43ee42209156>\u001b[0m in \u001b[0;36mBalanced2\u001b[1;34m(s)\u001b[0m\n\u001b[0;32m      3\u001b[0m \u001b[1;32mdef\u001b[0m \u001b[0mBalanced2\u001b[0m\u001b[1;33m(\u001b[0m\u001b[0ms\u001b[0m\u001b[1;33m)\u001b[0m\u001b[1;33m:\u001b[0m\u001b[1;33m\u001b[0m\u001b[0m\n\u001b[0;32m      4\u001b[0m     \u001b[0mP\u001b[0m \u001b[1;33m=\u001b[0m \u001b[0ms\u001b[0m\u001b[1;33m\u001b[0m\u001b[0m\n\u001b[1;32m----> 5\u001b[1;33m     \u001b[0mPP\u001b[0m \u001b[1;33m=\u001b[0m \u001b[0mnp\u001b[0m\u001b[1;33m.\u001b[0m\u001b[0marray\u001b[0m\u001b[1;33m(\u001b[0m\u001b[0mlist\u001b[0m\u001b[1;33m(\u001b[0m\u001b[0mP\u001b[0m\u001b[1;33m)\u001b[0m\u001b[1;33m)\u001b[0m\u001b[1;33m\u001b[0m\u001b[0m\n\u001b[0m\u001b[0;32m      6\u001b[0m \u001b[1;33m\u001b[0m\u001b[0m\n\u001b[0;32m      7\u001b[0m     \u001b[0mnn\u001b[0m \u001b[1;33m=\u001b[0m \u001b[0mnp\u001b[0m\u001b[1;33m.\u001b[0m\u001b[0mwhere\u001b[0m\u001b[1;33m(\u001b[0m\u001b[0mPP\u001b[0m\u001b[1;33m==\u001b[0m\u001b[1;34m'('\u001b[0m\u001b[1;33m)\u001b[0m\u001b[1;33m\u001b[0m\u001b[0m\n",
      "\u001b[1;31mUnboundLocalError\u001b[0m: local variable 'list' referenced before assignment"
     ]
    }
   ],
   "source": [
    "Balanced2('(()()()())')"
   ]
  },
  {
   "cell_type": "markdown",
   "metadata": {},
   "source": [
    "-----------------------------------\n",
    "* '('= 1, ')'= -1로 더해가며 0을 만든다.\n",
    "* 중간에 음수가 되버리면 False 리턴"
   ]
  },
  {
   "cell_type": "code",
   "execution_count": 14,
   "metadata": {},
   "outputs": [],
   "source": [
    "def isBalanced(s):\n",
    "    n = 0\n",
    "    \n",
    "    for i in range(len(s)):\n",
    "        if s[i] == '(':\n",
    "            n += 1\n",
    "        else:\n",
    "            n += -1\n",
    "        \n",
    "        if n < 0:\n",
    "            return print(False)\n",
    "    \n",
    "    if n == 0:\n",
    "        return print(True)\n",
    "    else:\n",
    "        return print(False)"
   ]
  },
  {
   "cell_type": "code",
   "execution_count": 15,
   "metadata": {},
   "outputs": [
    {
     "name": "stdout",
     "output_type": "stream",
     "text": [
      "True\n",
      "True\n",
      "True\n",
      "False\n",
      "False\n",
      "False\n",
      "False\n",
      "False\n",
      "True\n",
      "True\n"
     ]
    }
   ],
   "source": [
    "isBalanced('(()()()())')\n",
    "isBalanced('(((())))')\n",
    "isBalanced('(()((())()))')\n",
    "isBalanced('((((((())')\n",
    "isBalanced('()))')\n",
    "isBalanced('(()()(()')\n",
    "isBalanced('(()))(')\n",
    "isBalanced('())(()')\n",
    "isBalanced('()')\n",
    "isBalanced('()()')"
   ]
  },
  {
   "cell_type": "code",
   "execution_count": null,
   "metadata": {},
   "outputs": [],
   "source": []
  },
  {
   "cell_type": "markdown",
   "metadata": {},
   "source": [
    "### Reverse_and_add\n",
    "* 어떤 수를 받아 뒤집은 수와 원래 수를 더하는 과정을 진행\n",
    "* 그 합이 회문(어느쪽으로 읽어도 같은 수)가 아니면 위 과정을 반복\n",
    "* 대부분의 정수는 몇 단계만 반복하면 회문이 된다. 하지만 회문이 없다고 하는 수도 있다.\n",
    "\n",
    "\n",
    "* 어떤 수가 주어져쓸 때 회문이 있으면 출력, 회문 찾기까지 더한 횟루를 출력하자\n",
    "* 1000번 미만 반복, 회문은 4,294,967,295보다 크지 않다고 가정."
   ]
  },
  {
   "cell_type": "code",
   "execution_count": 1,
   "metadata": {},
   "outputs": [],
   "source": [
    "def Reverse(n):\n",
    "    iter_num = 0\n",
    "    \n",
    "    while str(n) != str(n)[::-1]:\n",
    "        n = str(n)\n",
    "        reverse_n = n[::-1]\n",
    "        n = int(n) + int(reverse_n)\n",
    "        iter_num += 1\n",
    "        \n",
    "        if iter_num > 1000:\n",
    "            break\n",
    "        \n",
    "        if n > 4294967295:\n",
    "            break\n",
    "            \n",
    "    if str(n) == str(n)[::-1]:\n",
    "        return iter_num, n\n",
    "    else:\n",
    "        return '1000 upper', 'No palindrome within 1000 cycle'"
   ]
  },
  {
   "cell_type": "code",
   "execution_count": 2,
   "metadata": {},
   "outputs": [
    {
     "name": "stdout",
     "output_type": "stream",
     "text": [
      "Input :  [3920, 5640, 8197, 4379, 5441, 6840, 7105, 2602, 3442, 7219]\n",
      "Output :  [(2, 7337), (3, 23232), (2, 67276), (2, 45254), (1, 6886), (4, 99099), (2, 34243), (1, 4664), (1, 5885), (4, 665566)]\n"
     ]
    }
   ],
   "source": [
    "import numpy as np\n",
    "\n",
    "N = 10\n",
    "num_list = np.random.randint(1, 10000, N)\n",
    "\n",
    "result = []\n",
    "for i in num_list:\n",
    "    result.append(Reverse(i))\n",
    "    \n",
    "print('Input : ', list(num_list))\n",
    "print('Output : ', result)"
   ]
  },
  {
   "cell_type": "code",
   "execution_count": 5,
   "metadata": {
    "scrolled": true
   },
   "outputs": [
    {
     "data": {
      "text/html": [
       "<div>\n",
       "<style scoped>\n",
       "    .dataframe tbody tr th:only-of-type {\n",
       "        vertical-align: middle;\n",
       "    }\n",
       "\n",
       "    .dataframe tbody tr th {\n",
       "        vertical-align: top;\n",
       "    }\n",
       "\n",
       "    .dataframe thead th {\n",
       "        text-align: right;\n",
       "    }\n",
       "</style>\n",
       "<table border=\"1\" class=\"dataframe\">\n",
       "  <thead>\n",
       "    <tr style=\"text-align: right;\">\n",
       "      <th></th>\n",
       "      <th>iteration_number</th>\n",
       "      <th>Palindrome</th>\n",
       "    </tr>\n",
       "  </thead>\n",
       "  <tbody>\n",
       "    <tr>\n",
       "      <th>3920</th>\n",
       "      <td>2</td>\n",
       "      <td>7337</td>\n",
       "    </tr>\n",
       "    <tr>\n",
       "      <th>5640</th>\n",
       "      <td>3</td>\n",
       "      <td>23232</td>\n",
       "    </tr>\n",
       "    <tr>\n",
       "      <th>8197</th>\n",
       "      <td>2</td>\n",
       "      <td>67276</td>\n",
       "    </tr>\n",
       "    <tr>\n",
       "      <th>4379</th>\n",
       "      <td>2</td>\n",
       "      <td>45254</td>\n",
       "    </tr>\n",
       "    <tr>\n",
       "      <th>5441</th>\n",
       "      <td>1</td>\n",
       "      <td>6886</td>\n",
       "    </tr>\n",
       "    <tr>\n",
       "      <th>6840</th>\n",
       "      <td>4</td>\n",
       "      <td>99099</td>\n",
       "    </tr>\n",
       "    <tr>\n",
       "      <th>7105</th>\n",
       "      <td>2</td>\n",
       "      <td>34243</td>\n",
       "    </tr>\n",
       "    <tr>\n",
       "      <th>2602</th>\n",
       "      <td>1</td>\n",
       "      <td>4664</td>\n",
       "    </tr>\n",
       "    <tr>\n",
       "      <th>3442</th>\n",
       "      <td>1</td>\n",
       "      <td>5885</td>\n",
       "    </tr>\n",
       "    <tr>\n",
       "      <th>7219</th>\n",
       "      <td>4</td>\n",
       "      <td>665566</td>\n",
       "    </tr>\n",
       "  </tbody>\n",
       "</table>\n",
       "</div>"
      ],
      "text/plain": [
       "      iteration_number  Palindrome\n",
       "3920                 2        7337\n",
       "5640                 3       23232\n",
       "8197                 2       67276\n",
       "4379                 2       45254\n",
       "5441                 1        6886\n",
       "6840                 4       99099\n",
       "7105                 2       34243\n",
       "2602                 1        4664\n",
       "3442                 1        5885\n",
       "7219                 4      665566"
      ]
     },
     "execution_count": 5,
     "metadata": {},
     "output_type": "execute_result"
    }
   ],
   "source": [
    "import pandas as pd\n",
    "\n",
    "data = pd.DataFrame(result, index=num_list, columns=['iteration_number', 'Palindrome'])\n",
    "data"
   ]
  },
  {
   "cell_type": "code",
   "execution_count": null,
   "metadata": {},
   "outputs": [],
   "source": []
  }
 ],
 "metadata": {
  "kernelspec": {
   "display_name": "Python 3",
   "language": "python",
   "name": "python3"
  },
  "language_info": {
   "codemirror_mode": {
    "name": "ipython",
    "version": 3
   },
   "file_extension": ".py",
   "mimetype": "text/x-python",
   "name": "python",
   "nbconvert_exporter": "python",
   "pygments_lexer": "ipython3",
   "version": "3.5.5"
  }
 },
 "nbformat": 4,
 "nbformat_minor": 1
}
